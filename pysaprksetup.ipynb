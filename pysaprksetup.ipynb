{
  "nbformat": 4,
  "nbformat_minor": 0,
  "metadata": {
    "colab": {
      "provenance": [],
      "mount_file_id": "1xzpuwr6lHR1IePKG-OMumjW6decSMHRB",
      "authorship_tag": "ABX9TyOgoXqpAfk38aw1J8UZxBQ0",
      "include_colab_link": true
    },
    "kernelspec": {
      "name": "python3",
      "display_name": "Python 3"
    },
    "language_info": {
      "name": "python"
    }
  },
  "cells": [
    {
      "cell_type": "markdown",
      "metadata": {
        "id": "view-in-github",
        "colab_type": "text"
      },
      "source": [
        "<a href=\"https://colab.research.google.com/github/shashvindu/pysparknote/blob/main/pysaprksetup.ipynb\" target=\"_parent\"><img src=\"https://colab.research.google.com/assets/colab-badge.svg\" alt=\"Open In Colab\"/></a>"
      ]
    },
    {
      "cell_type": "code",
      "execution_count": null,
      "metadata": {
        "id": "hQsRpZpXQDkz"
      },
      "outputs": [],
      "source": []
    },
    {
      "cell_type": "code",
      "source": [
        "from google.colab import drive\n",
        "drive.mount('/content/drive')"
      ],
      "metadata": {
        "colab": {
          "base_uri": "https://localhost:8080/"
        },
        "id": "p9I_EnOTQRed",
        "outputId": "be5e4993-ed93-4308-f144-554003238cfe"
      },
      "execution_count": 1,
      "outputs": [
        {
          "output_type": "stream",
          "name": "stdout",
          "text": [
            "Drive already mounted at /content/drive; to attempt to forcibly remount, call drive.mount(\"/content/drive\", force_remount=True).\n"
          ]
        }
      ]
    },
    {
      "cell_type": "code",
      "source": [
        "!apt-get install openjdk-8-jdk-headless -qq > /dev/null"
      ],
      "metadata": {
        "id": "1zCAPCuNQyc3"
      },
      "execution_count": 3,
      "outputs": []
    },
    {
      "cell_type": "code",
      "source": [
        "!wget -q https://dlcdn.apache.org/spark/spark-3.3.0/spark-3.3.0-bin-hadoop3.tgz"
      ],
      "metadata": {
        "id": "f8-Lw8-rTyO4"
      },
      "execution_count": 4,
      "outputs": []
    },
    {
      "cell_type": "code",
      "source": [
        "!tar xf spark-3.3.0-bin-hadoop3.tgz"
      ],
      "metadata": {
        "id": "kmmBygZVT9L1"
      },
      "execution_count": 5,
      "outputs": []
    },
    {
      "cell_type": "code",
      "source": [
        "!pip install -q findspark\n",
        "!pip install pyspark"
      ],
      "metadata": {
        "colab": {
          "base_uri": "https://localhost:8080/"
        },
        "id": "w281n5-nUN7S",
        "outputId": "87f8be36-93ad-4da5-8298-c4edd6006e5e"
      },
      "execution_count": 6,
      "outputs": [
        {
          "output_type": "stream",
          "name": "stdout",
          "text": [
            "Looking in indexes: https://pypi.org/simple, https://us-python.pkg.dev/colab-wheels/public/simple/\n",
            "Collecting pyspark\n",
            "  Downloading pyspark-3.3.0.tar.gz (281.3 MB)\n",
            "\u001b[K     |████████████████████████████████| 281.3 MB 37 kB/s \n",
            "\u001b[?25hCollecting py4j==0.10.9.5\n",
            "  Downloading py4j-0.10.9.5-py2.py3-none-any.whl (199 kB)\n",
            "\u001b[K     |████████████████████████████████| 199 kB 33.1 MB/s \n",
            "\u001b[?25hBuilding wheels for collected packages: pyspark\n",
            "  Building wheel for pyspark (setup.py) ... \u001b[?25l\u001b[?25hdone\n",
            "  Created wheel for pyspark: filename=pyspark-3.3.0-py2.py3-none-any.whl size=281764026 sha256=3b7f6089ad5b4b6e5f234920fdfe6e6439c594f0e13bf2fdb7e0b26e653cae0e\n",
            "  Stored in directory: /root/.cache/pip/wheels/7a/8e/1b/f73a52650d2e5f337708d9f6a1750d451a7349a867f928b885\n",
            "Successfully built pyspark\n",
            "Installing collected packages: py4j, pyspark\n",
            "Successfully installed py4j-0.10.9.5 pyspark-3.3.0\n"
          ]
        }
      ]
    },
    {
      "cell_type": "code",
      "source": [
        "from pyspark import SparkContext"
      ],
      "metadata": {
        "id": "oENtkY0DU5Je"
      },
      "execution_count": 7,
      "outputs": []
    },
    {
      "cell_type": "code",
      "source": [
        "sc=SparkContext()"
      ],
      "metadata": {
        "id": "uRVRThrMVvcD"
      },
      "execution_count": 8,
      "outputs": []
    },
    {
      "cell_type": "code",
      "source": [
        "a=sc.parallelize([1,2,3])"
      ],
      "metadata": {
        "id": "M8MmNGiBVjOQ"
      },
      "execution_count": 10,
      "outputs": []
    },
    {
      "cell_type": "code",
      "source": [
        "a.take(2)"
      ],
      "metadata": {
        "colab": {
          "base_uri": "https://localhost:8080/"
        },
        "id": "XmOJiLfsWXzu",
        "outputId": "6f7feead-dd5d-49a4-a564-573b067e2fb5"
      },
      "execution_count": 12,
      "outputs": [
        {
          "output_type": "execute_result",
          "data": {
            "text/plain": [
              "[1, 2]"
            ]
          },
          "metadata": {},
          "execution_count": 12
        }
      ]
    },
    {
      "cell_type": "code",
      "source": [
        "sc.stop()"
      ],
      "metadata": {
        "id": "uc5nIFyuWi3Y"
      },
      "execution_count": 13,
      "outputs": []
    },
    {
      "cell_type": "code",
      "source": [
        "import findspark\n",
        "findspark.init()\n",
        "\n",
        "from pyspark.sql import SparkSession\n",
        "\n",
        "retails_data_csv = \"/content/drive/MyDrive/data/retail-data/by-day/*.csv\""
      ],
      "metadata": {
        "id": "UCQq5Kj1W-Cx"
      },
      "execution_count": 14,
      "outputs": []
    },
    {
      "cell_type": "code",
      "source": [
        "spark = SparkSession \\\n",
        "    .builder \\\n",
        "    .appName(\"Basic Dataframe Operations\") \\\n",
        "    .config(\"spark.master\", \"local\") \\\n",
        "    .getOrCreate()"
      ],
      "metadata": {
        "id": "eXHZBnchW9_U"
      },
      "execution_count": 20,
      "outputs": []
    },
    {
      "cell_type": "code",
      "source": [
        "df = spark.read.format(\"csv\")\\\n",
        "  .option(\"header\", \"true\")\\\n",
        "  .option(\"inferSchema\", \"true\")\\\n",
        "  .load(retails_data_csv)\\\n",
        "  .repartition(5)"
      ],
      "metadata": {
        "id": "fJ7uwjHnW9sV"
      },
      "execution_count": 24,
      "outputs": []
    },
    {
      "cell_type": "code",
      "source": [
        "df.show()"
      ],
      "metadata": {
        "colab": {
          "base_uri": "https://localhost:8080/"
        },
        "id": "ZPd57GXLXYvL",
        "outputId": "3efa857c-a651-42fa-d0e8-79b1833a6f47"
      },
      "execution_count": 25,
      "outputs": [
        {
          "output_type": "stream",
          "name": "stdout",
          "text": [
            "+---------+---------+--------------------+--------+-------------------+---------+----------+--------------+\n",
            "|InvoiceNo|StockCode|         Description|Quantity|        InvoiceDate|UnitPrice|CustomerID|       Country|\n",
            "+---------+---------+--------------------+--------+-------------------+---------+----------+--------------+\n",
            "|   536587|    22421|LIPSTICK PEN FUSCHIA|      12|2010-12-01 16:33:00|     0.42|   14142.0|United Kingdom|\n",
            "|   536460|    21257|VICTORIAN SEWING ...|       2|2010-12-01 12:22:00|     7.95|   14849.0|United Kingdom|\n",
            "|   536592|    22745|POPPY'S PLAYHOUSE...|       1|2010-12-01 17:06:00|     4.21|      null|United Kingdom|\n",
            "|   536592|    22100|SKULLS SQUARE TIS...|       1|2010-12-01 17:06:00|     2.51|      null|United Kingdom|\n",
            "|   536368|    22912|YELLOW COAT RACK ...|       3|2010-12-01 08:34:00|     4.95|   13047.0|United Kingdom|\n",
            "|   536544|    22069|BROWN  PIRATE TRE...|       1|2010-12-01 14:32:00|     3.36|      null|United Kingdom|\n",
            "|   536523|    21485|RETROSPOT HEART H...|       3|2010-12-01 12:50:00|     4.95|   12868.0|United Kingdom|\n",
            "|   536464|    21584|RETROSPOT SMALL T...|       1|2010-12-01 12:23:00|     1.65|   17968.0|United Kingdom|\n",
            "|   536557|    22694|        WICKER STAR |       2|2010-12-01 14:41:00|      2.1|   17841.0|United Kingdom|\n",
            "|   536592|    84347|ROTATING SILVER A...|       1|2010-12-01 17:06:00|     5.06|      null|United Kingdom|\n",
            "|   536520|    21034|REX CASH+CARRY JU...|       2|2010-12-01 12:43:00|     0.95|   14729.0|United Kingdom|\n",
            "|   536569|    21018|BIRD BOX CHRISTMA...|       2|2010-12-01 15:35:00|     0.85|   16274.0|United Kingdom|\n",
            "|   536540|   85071A|BLUE CHARLIE+LOLA...|       6|2010-12-01 14:05:00|     2.95|   14911.0|          EIRE|\n",
            "|   536551|    21592|RETROSPOT CIGAR B...|       1|2010-12-01 14:34:00|     1.25|   17346.0|United Kingdom|\n",
            "|   536544|    21116|        OWL DOORSTOP|       1|2010-12-01 14:32:00|     8.47|      null|United Kingdom|\n",
            "|   536464|    22960|JAM MAKING SET WI...|       1|2010-12-01 12:23:00|     4.25|   17968.0|United Kingdom|\n",
            "|   536520|    22551|PLASTERS IN TIN S...|       1|2010-12-01 12:43:00|     1.65|   14729.0|United Kingdom|\n",
            "|   536544|    22515|CHILDS GARDEN SPA...|       1|2010-12-01 14:32:00|     4.21|      null|United Kingdom|\n",
            "|   536488|    22376|AIRLINE BAG VINTA...|       1|2010-12-01 12:31:00|     4.25|   17897.0|United Kingdom|\n",
            "|   536592|   17012D|ORIGAMI ROSE INCE...|       1|2010-12-01 17:06:00|     2.51|      null|United Kingdom|\n",
            "+---------+---------+--------------------+--------+-------------------+---------+----------+--------------+\n",
            "only showing top 20 rows\n",
            "\n"
          ]
        }
      ]
    },
    {
      "cell_type": "code",
      "source": [
        "df.rdd.getNumPartitions()"
      ],
      "metadata": {
        "colab": {
          "base_uri": "https://localhost:8080/"
        },
        "id": "lV0ByxEEXYi_",
        "outputId": "306b3574-e5f2-43a4-c19e-d5b5e3245c7b"
      },
      "execution_count": 26,
      "outputs": [
        {
          "output_type": "execute_result",
          "data": {
            "text/plain": [
              "5"
            ]
          },
          "metadata": {},
          "execution_count": 26
        }
      ]
    },
    {
      "cell_type": "code",
      "source": [
        "from pyspark.sql.functions import count, countDistinct, approx_count_distinct\n",
        "df.select(count(\"StockCode\")).show()"
      ],
      "metadata": {
        "colab": {
          "base_uri": "https://localhost:8080/"
        },
        "id": "41Mu67o2Yuvs",
        "outputId": "891802fd-c2ad-43f1-fa41-872898636ed0"
      },
      "execution_count": 28,
      "outputs": [
        {
          "output_type": "stream",
          "name": "stdout",
          "text": [
            "+----------------+\n",
            "|count(StockCode)|\n",
            "+----------------+\n",
            "|            3108|\n",
            "+----------------+\n",
            "\n"
          ]
        }
      ]
    },
    {
      "cell_type": "code",
      "source": [
        "df.groupBy(\"StockCode\").count().show()"
      ],
      "metadata": {
        "colab": {
          "base_uri": "https://localhost:8080/"
        },
        "id": "WpbVEbsfYulp",
        "outputId": "5696c509-b4a6-4700-ac68-628a79f387fe"
      },
      "execution_count": 29,
      "outputs": [
        {
          "output_type": "stream",
          "name": "stdout",
          "text": [
            "+---------+-----+\n",
            "|StockCode|count|\n",
            "+---------+-----+\n",
            "|    21249|    2|\n",
            "|    21894|    2|\n",
            "|    22121|    6|\n",
            "|    22728|    4|\n",
            "|    90022|    1|\n",
            "|    21889|    5|\n",
            "|    22629|    4|\n",
            "|    82486|    5|\n",
            "|    85064|    4|\n",
            "|    21967|    2|\n",
            "|    22077|    7|\n",
            "|    22107|    3|\n",
            "|    84347|    8|\n",
            "|    21690|    1|\n",
            "|    21086|    1|\n",
            "|    21833|    2|\n",
            "|    48184|    1|\n",
            "|    22652|    3|\n",
            "|    20723|    3|\n",
            "|    22184|    1|\n",
            "+---------+-----+\n",
            "only showing top 20 rows\n",
            "\n"
          ]
        }
      ]
    },
    {
      "cell_type": "code",
      "source": [
        "df.select(countDistinct(\"StockCode\")).show()"
      ],
      "metadata": {
        "colab": {
          "base_uri": "https://localhost:8080/"
        },
        "id": "3fGKDTqKYujP",
        "outputId": "958fe4e9-cffe-4b91-9c90-fe09e2988da5"
      },
      "execution_count": 30,
      "outputs": [
        {
          "output_type": "stream",
          "name": "stdout",
          "text": [
            "+-------------------------+\n",
            "|count(DISTINCT StockCode)|\n",
            "+-------------------------+\n",
            "|                     1351|\n",
            "+-------------------------+\n",
            "\n"
          ]
        }
      ]
    },
    {
      "cell_type": "code",
      "source": [
        "df.select(approx_count_distinct(\"StockCode\", 0.1)).show()"
      ],
      "metadata": {
        "id": "oeKVBHxtYugz"
      },
      "execution_count": null,
      "outputs": []
    },
    {
      "cell_type": "code",
      "source": [],
      "metadata": {
        "id": "IcskLMa_YueD"
      },
      "execution_count": null,
      "outputs": []
    },
    {
      "cell_type": "code",
      "source": [],
      "metadata": {
        "id": "S4fLEMtrYuax"
      },
      "execution_count": null,
      "outputs": []
    }
  ]
}